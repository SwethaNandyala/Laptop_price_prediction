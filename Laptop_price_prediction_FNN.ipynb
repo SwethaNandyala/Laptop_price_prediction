{
 "cells": [
  {
   "cell_type": "code",
   "execution_count": 1,
   "id": "9ef6d4dd",
   "metadata": {},
   "outputs": [],
   "source": [
    "import numpy as np\n",
    "import pandas as pd\n",
    "import matplotlib.pyplot as plt\n",
    "import seaborn as sns\n",
    "\n",
    "from sklearn.preprocessing import MinMaxScaler, StandardScaler, OneHotEncoder\n",
    "from sklearn.model_selection import train_test_split\n",
    "\n",
    "from tensorflow.keras import Sequential\n",
    "from tensorflow.keras.layers import Dense,BatchNormalization, Dropout\n",
    "from tensorflow.keras.optimizers import Adam,SGD\n",
    "from tensorflow.keras.losses import MeanSquaredError,MeanAbsoluteError\n",
    "from tensorflow.keras.metrics import mean_squared_error,mean_absolute_error"
   ]
  },
  {
   "cell_type": "code",
   "execution_count": 2,
   "id": "ebfaf6b1",
   "metadata": {},
   "outputs": [
    {
     "data": {
      "text/html": [
       "<div>\n",
       "<style scoped>\n",
       "    .dataframe tbody tr th:only-of-type {\n",
       "        vertical-align: middle;\n",
       "    }\n",
       "\n",
       "    .dataframe tbody tr th {\n",
       "        vertical-align: top;\n",
       "    }\n",
       "\n",
       "    .dataframe thead th {\n",
       "        text-align: right;\n",
       "    }\n",
       "</style>\n",
       "<table border=\"1\" class=\"dataframe\">\n",
       "  <thead>\n",
       "    <tr style=\"text-align: right;\">\n",
       "      <th></th>\n",
       "      <th>Laptop</th>\n",
       "      <th>Status</th>\n",
       "      <th>Brand</th>\n",
       "      <th>Model</th>\n",
       "      <th>CPU</th>\n",
       "      <th>RAM</th>\n",
       "      <th>Storage</th>\n",
       "      <th>Storage type</th>\n",
       "      <th>GPU</th>\n",
       "      <th>Screen</th>\n",
       "      <th>Touch</th>\n",
       "      <th>Final Price</th>\n",
       "    </tr>\n",
       "  </thead>\n",
       "  <tbody>\n",
       "    <tr>\n",
       "      <th>0</th>\n",
       "      <td>ASUS ExpertBook B1 B1502CBA-EJ0436X Intel Core...</td>\n",
       "      <td>New</td>\n",
       "      <td>Asus</td>\n",
       "      <td>ExpertBook</td>\n",
       "      <td>Intel Core i5</td>\n",
       "      <td>8</td>\n",
       "      <td>512</td>\n",
       "      <td>SSD</td>\n",
       "      <td>NaN</td>\n",
       "      <td>15.6</td>\n",
       "      <td>No</td>\n",
       "      <td>1009.00</td>\n",
       "    </tr>\n",
       "    <tr>\n",
       "      <th>1</th>\n",
       "      <td>Alurin Go Start Intel Celeron N4020/8GB/256GB ...</td>\n",
       "      <td>New</td>\n",
       "      <td>Alurin</td>\n",
       "      <td>Go</td>\n",
       "      <td>Intel Celeron</td>\n",
       "      <td>8</td>\n",
       "      <td>256</td>\n",
       "      <td>SSD</td>\n",
       "      <td>NaN</td>\n",
       "      <td>15.6</td>\n",
       "      <td>No</td>\n",
       "      <td>299.00</td>\n",
       "    </tr>\n",
       "    <tr>\n",
       "      <th>2</th>\n",
       "      <td>ASUS ExpertBook B1 B1502CBA-EJ0424X Intel Core...</td>\n",
       "      <td>New</td>\n",
       "      <td>Asus</td>\n",
       "      <td>ExpertBook</td>\n",
       "      <td>Intel Core i3</td>\n",
       "      <td>8</td>\n",
       "      <td>256</td>\n",
       "      <td>SSD</td>\n",
       "      <td>NaN</td>\n",
       "      <td>15.6</td>\n",
       "      <td>No</td>\n",
       "      <td>789.00</td>\n",
       "    </tr>\n",
       "    <tr>\n",
       "      <th>3</th>\n",
       "      <td>MSI Katana GF66 12UC-082XES Intel Core i7-1270...</td>\n",
       "      <td>New</td>\n",
       "      <td>MSI</td>\n",
       "      <td>Katana</td>\n",
       "      <td>Intel Core i7</td>\n",
       "      <td>16</td>\n",
       "      <td>1000</td>\n",
       "      <td>SSD</td>\n",
       "      <td>RTX 3050</td>\n",
       "      <td>15.6</td>\n",
       "      <td>No</td>\n",
       "      <td>1199.00</td>\n",
       "    </tr>\n",
       "    <tr>\n",
       "      <th>4</th>\n",
       "      <td>HP 15S-FQ5085NS Intel Core i5-1235U/16GB/512GB...</td>\n",
       "      <td>New</td>\n",
       "      <td>HP</td>\n",
       "      <td>15S</td>\n",
       "      <td>Intel Core i5</td>\n",
       "      <td>16</td>\n",
       "      <td>512</td>\n",
       "      <td>SSD</td>\n",
       "      <td>NaN</td>\n",
       "      <td>15.6</td>\n",
       "      <td>No</td>\n",
       "      <td>669.01</td>\n",
       "    </tr>\n",
       "  </tbody>\n",
       "</table>\n",
       "</div>"
      ],
      "text/plain": [
       "                                              Laptop Status   Brand  \\\n",
       "0  ASUS ExpertBook B1 B1502CBA-EJ0436X Intel Core...    New    Asus   \n",
       "1  Alurin Go Start Intel Celeron N4020/8GB/256GB ...    New  Alurin   \n",
       "2  ASUS ExpertBook B1 B1502CBA-EJ0424X Intel Core...    New    Asus   \n",
       "3  MSI Katana GF66 12UC-082XES Intel Core i7-1270...    New     MSI   \n",
       "4  HP 15S-FQ5085NS Intel Core i5-1235U/16GB/512GB...    New      HP   \n",
       "\n",
       "        Model            CPU  RAM  Storage Storage type       GPU  Screen  \\\n",
       "0  ExpertBook  Intel Core i5    8      512          SSD       NaN    15.6   \n",
       "1          Go  Intel Celeron    8      256          SSD       NaN    15.6   \n",
       "2  ExpertBook  Intel Core i3    8      256          SSD       NaN    15.6   \n",
       "3      Katana  Intel Core i7   16     1000          SSD  RTX 3050    15.6   \n",
       "4         15S  Intel Core i5   16      512          SSD       NaN    15.6   \n",
       "\n",
       "  Touch  Final Price  \n",
       "0    No      1009.00  \n",
       "1    No       299.00  \n",
       "2    No       789.00  \n",
       "3    No      1199.00  \n",
       "4    No       669.01  "
      ]
     },
     "execution_count": 2,
     "metadata": {},
     "output_type": "execute_result"
    }
   ],
   "source": [
    "data_df = pd.read_csv(\"laptops.csv\")\n",
    "data_df.head()"
   ]
  },
  {
   "cell_type": "code",
   "execution_count": 3,
   "id": "21275f3c",
   "metadata": {},
   "outputs": [
    {
     "data": {
      "text/html": [
       "<div>\n",
       "<style scoped>\n",
       "    .dataframe tbody tr th:only-of-type {\n",
       "        vertical-align: middle;\n",
       "    }\n",
       "\n",
       "    .dataframe tbody tr th {\n",
       "        vertical-align: top;\n",
       "    }\n",
       "\n",
       "    .dataframe thead th {\n",
       "        text-align: right;\n",
       "    }\n",
       "</style>\n",
       "<table border=\"1\" class=\"dataframe\">\n",
       "  <thead>\n",
       "    <tr style=\"text-align: right;\">\n",
       "      <th></th>\n",
       "      <th>RAM</th>\n",
       "      <th>Storage</th>\n",
       "      <th>Screen</th>\n",
       "      <th>Final Price</th>\n",
       "    </tr>\n",
       "  </thead>\n",
       "  <tbody>\n",
       "    <tr>\n",
       "      <th>count</th>\n",
       "      <td>2160.000000</td>\n",
       "      <td>2160.000000</td>\n",
       "      <td>2156.000000</td>\n",
       "      <td>2160.000000</td>\n",
       "    </tr>\n",
       "    <tr>\n",
       "      <th>mean</th>\n",
       "      <td>15.413889</td>\n",
       "      <td>596.294444</td>\n",
       "      <td>15.168112</td>\n",
       "      <td>1312.638509</td>\n",
       "    </tr>\n",
       "    <tr>\n",
       "      <th>std</th>\n",
       "      <td>9.867815</td>\n",
       "      <td>361.220506</td>\n",
       "      <td>1.203329</td>\n",
       "      <td>911.475417</td>\n",
       "    </tr>\n",
       "    <tr>\n",
       "      <th>min</th>\n",
       "      <td>4.000000</td>\n",
       "      <td>0.000000</td>\n",
       "      <td>10.100000</td>\n",
       "      <td>201.050000</td>\n",
       "    </tr>\n",
       "    <tr>\n",
       "      <th>25%</th>\n",
       "      <td>8.000000</td>\n",
       "      <td>256.000000</td>\n",
       "      <td>14.000000</td>\n",
       "      <td>661.082500</td>\n",
       "    </tr>\n",
       "    <tr>\n",
       "      <th>50%</th>\n",
       "      <td>16.000000</td>\n",
       "      <td>512.000000</td>\n",
       "      <td>15.600000</td>\n",
       "      <td>1031.945000</td>\n",
       "    </tr>\n",
       "    <tr>\n",
       "      <th>75%</th>\n",
       "      <td>16.000000</td>\n",
       "      <td>1000.000000</td>\n",
       "      <td>15.600000</td>\n",
       "      <td>1708.970000</td>\n",
       "    </tr>\n",
       "    <tr>\n",
       "      <th>max</th>\n",
       "      <td>128.000000</td>\n",
       "      <td>4000.000000</td>\n",
       "      <td>18.000000</td>\n",
       "      <td>7150.470000</td>\n",
       "    </tr>\n",
       "  </tbody>\n",
       "</table>\n",
       "</div>"
      ],
      "text/plain": [
       "               RAM      Storage       Screen  Final Price\n",
       "count  2160.000000  2160.000000  2156.000000  2160.000000\n",
       "mean     15.413889   596.294444    15.168112  1312.638509\n",
       "std       9.867815   361.220506     1.203329   911.475417\n",
       "min       4.000000     0.000000    10.100000   201.050000\n",
       "25%       8.000000   256.000000    14.000000   661.082500\n",
       "50%      16.000000   512.000000    15.600000  1031.945000\n",
       "75%      16.000000  1000.000000    15.600000  1708.970000\n",
       "max     128.000000  4000.000000    18.000000  7150.470000"
      ]
     },
     "execution_count": 3,
     "metadata": {},
     "output_type": "execute_result"
    }
   ],
   "source": [
    "data_df.describe()"
   ]
  },
  {
   "cell_type": "code",
   "execution_count": 4,
   "id": "aa3d014d",
   "metadata": {},
   "outputs": [
    {
     "name": "stdout",
     "output_type": "stream",
     "text": [
      "<class 'pandas.core.frame.DataFrame'>\n",
      "RangeIndex: 2160 entries, 0 to 2159\n",
      "Data columns (total 12 columns):\n",
      " #   Column        Non-Null Count  Dtype  \n",
      "---  ------        --------------  -----  \n",
      " 0   Laptop        2160 non-null   object \n",
      " 1   Status        2160 non-null   object \n",
      " 2   Brand         2160 non-null   object \n",
      " 3   Model         2160 non-null   object \n",
      " 4   CPU           2160 non-null   object \n",
      " 5   RAM           2160 non-null   int64  \n",
      " 6   Storage       2160 non-null   int64  \n",
      " 7   Storage type  2118 non-null   object \n",
      " 8   GPU           789 non-null    object \n",
      " 9   Screen        2156 non-null   float64\n",
      " 10  Touch         2160 non-null   object \n",
      " 11  Final Price   2160 non-null   float64\n",
      "dtypes: float64(2), int64(2), object(8)\n",
      "memory usage: 202.6+ KB\n"
     ]
    }
   ],
   "source": [
    "data_df.info()"
   ]
  },
  {
   "cell_type": "code",
   "execution_count": 5,
   "id": "f5265c7b",
   "metadata": {},
   "outputs": [
    {
     "data": {
      "text/plain": [
       "Laptop             0\n",
       "Status             0\n",
       "Brand              0\n",
       "Model              0\n",
       "CPU                0\n",
       "RAM                0\n",
       "Storage            0\n",
       "Storage type      42\n",
       "GPU             1371\n",
       "Screen             4\n",
       "Touch              0\n",
       "Final Price        0\n",
       "dtype: int64"
      ]
     },
     "execution_count": 5,
     "metadata": {},
     "output_type": "execute_result"
    }
   ],
   "source": [
    "data_df.isnull().sum()"
   ]
  },
  {
   "cell_type": "markdown",
   "id": "d1fdc9ba",
   "metadata": {},
   "source": [
    "## Treating missing values"
   ]
  },
  {
   "cell_type": "code",
   "execution_count": 6,
   "id": "376529fc",
   "metadata": {},
   "outputs": [
    {
     "data": {
      "text/plain": [
       "SSD     2062\n",
       "eMMC      56\n",
       "Name: Storage type, dtype: int64"
      ]
     },
     "execution_count": 6,
     "metadata": {},
     "output_type": "execute_result"
    }
   ],
   "source": [
    "data_df[\"Storage type\"].value_counts()"
   ]
  },
  {
   "cell_type": "code",
   "execution_count": 7,
   "id": "f7e0517a",
   "metadata": {},
   "outputs": [],
   "source": [
    "data_df[\"Storage type\"].fillna(data_df[\"Storage type\"].mode()[0],inplace=True)"
   ]
  },
  {
   "cell_type": "code",
   "execution_count": 8,
   "id": "73c5a6f1",
   "metadata": {},
   "outputs": [
    {
     "data": {
      "text/plain": [
       "RTX 3050              129\n",
       "RTX 3060              122\n",
       "RTX 3070               97\n",
       "RTX 4060               62\n",
       "RTX 3080               51\n",
       "GTX 1650               50\n",
       "RTX 4070               40\n",
       "RTX 4050               33\n",
       "RTX 2070               25\n",
       "RTX 2060               20\n",
       "RTX 4080               18\n",
       "RTX 4090               17\n",
       "GTX 1660               14\n",
       "RTX 2050               11\n",
       "Radeon Pro 5500M        9\n",
       "RTX A2000               8\n",
       "RTX 2080                7\n",
       "MX 450                  7\n",
       "RTX A3000               7\n",
       "RTX A1000               6\n",
       "T 1200                  6\n",
       "MX 550                  5\n",
       "MX 330                  5\n",
       "T 500                   5\n",
       "T 550                   4\n",
       "GTX 1050                3\n",
       "Radeon Pro RX 560X      3\n",
       "RTX A5500               3\n",
       "RX 6500M                3\n",
       "RX 7600S                2\n",
       "T 600                   2\n",
       "Radeon Pro 5300M        2\n",
       "610 M                   2\n",
       "RX 6700M                1\n",
       "P 500                   1\n",
       "MX 130                  1\n",
       "A 370M                  1\n",
       "RX 6800S                1\n",
       "T 2000                  1\n",
       "RTX 3000                1\n",
       "A 730M                  1\n",
       "Radeon RX 6600M         1\n",
       "T 1000                  1\n",
       "GTX 1070                1\n",
       "Name: GPU, dtype: int64"
      ]
     },
     "execution_count": 8,
     "metadata": {},
     "output_type": "execute_result"
    }
   ],
   "source": [
    "data_df[\"GPU\"].value_counts()"
   ]
  },
  {
   "cell_type": "code",
   "execution_count": 9,
   "id": "c0260151",
   "metadata": {},
   "outputs": [],
   "source": [
    "data_df[\"GPU\"].fillna(data_df[\"GPU\"].mode()[0],inplace=True)"
   ]
  },
  {
   "cell_type": "code",
   "execution_count": 10,
   "id": "b9fa8ea6",
   "metadata": {},
   "outputs": [
    {
     "data": {
      "text/plain": [
       "15.60    1009\n",
       "14.00     392\n",
       "16.00     174\n",
       "17.30     161\n",
       "13.30     131\n",
       "16.10      48\n",
       "17.00      33\n",
       "13.00      27\n",
       "15.00      21\n",
       "13.50      19\n",
       "13.40      19\n",
       "11.60      16\n",
       "14.20      14\n",
       "12.30      13\n",
       "14.10      11\n",
       "13.60      11\n",
       "16.20      10\n",
       "15.30       8\n",
       "10.50       7\n",
       "14.40       6\n",
       "12.40       6\n",
       "15.40       5\n",
       "12.00       4\n",
       "18.00       3\n",
       "14.50       3\n",
       "13.90       2\n",
       "12.50       1\n",
       "10.10       1\n",
       "10.95       1\n",
       "Name: Screen, dtype: int64"
      ]
     },
     "execution_count": 10,
     "metadata": {},
     "output_type": "execute_result"
    }
   ],
   "source": [
    "data_df[\"Screen\"].value_counts()"
   ]
  },
  {
   "cell_type": "code",
   "execution_count": 11,
   "id": "e8e1960b",
   "metadata": {},
   "outputs": [],
   "source": [
    "data_df[\"Screen\"].fillna(data_df[\"Screen\"].mode()[0],inplace=True)"
   ]
  },
  {
   "cell_type": "code",
   "execution_count": 12,
   "id": "04f3360d",
   "metadata": {},
   "outputs": [
    {
     "data": {
      "text/plain": [
       "Laptop          0\n",
       "Status          0\n",
       "Brand           0\n",
       "Model           0\n",
       "CPU             0\n",
       "RAM             0\n",
       "Storage         0\n",
       "Storage type    0\n",
       "GPU             0\n",
       "Screen          0\n",
       "Touch           0\n",
       "Final Price     0\n",
       "dtype: int64"
      ]
     },
     "execution_count": 12,
     "metadata": {},
     "output_type": "execute_result"
    }
   ],
   "source": [
    "data_df.isnull().sum()"
   ]
  },
  {
   "cell_type": "markdown",
   "id": "8b7c3693",
   "metadata": {},
   "source": [
    "### All the missing values are treated now"
   ]
  },
  {
   "cell_type": "code",
   "execution_count": 13,
   "id": "47ee0d2e",
   "metadata": {},
   "outputs": [],
   "source": [
    "data_df[\"Brand Model\"] = data_df[\"Brand\"] + \"_\" + data_df[\"Model\"]"
   ]
  },
  {
   "cell_type": "code",
   "execution_count": 14,
   "id": "5517deba",
   "metadata": {},
   "outputs": [
    {
     "data": {
      "text/plain": [
       "array(['New', 'Refurbished'], dtype=object)"
      ]
     },
     "execution_count": 14,
     "metadata": {},
     "output_type": "execute_result"
    }
   ],
   "source": [
    "data_df[\"Status\"].unique()"
   ]
  },
  {
   "cell_type": "code",
   "execution_count": 15,
   "id": "acdad9fc",
   "metadata": {},
   "outputs": [
    {
     "data": {
      "text/plain": [
       "array(['No', 'Yes'], dtype=object)"
      ]
     },
     "execution_count": 15,
     "metadata": {},
     "output_type": "execute_result"
    }
   ],
   "source": [
    "data_df[\"Touch\"].unique()"
   ]
  },
  {
   "cell_type": "markdown",
   "id": "c3cc6fce",
   "metadata": {},
   "source": [
    "## Encoding"
   ]
  },
  {
   "cell_type": "code",
   "execution_count": 16,
   "id": "9c840d4b",
   "metadata": {},
   "outputs": [],
   "source": [
    "status_encode = {\"New\":1, \"Refurbished\":0}\n",
    "touch_encode = {\"No\":0, \"Yes\":1}\n",
    "Storage_type_encode = {\"SSD\":1, \"eMMC\":0}\n",
    "\n",
    "data_df[\"Status\"] = data_df[\"Status\"].map(status_encode)\n",
    "data_df[\"Touch\"] = data_df[\"Touch\"].map(touch_encode)\n",
    "data_df[\"Storage type\"]= data_df[\"Storage type\"].map(Storage_type_encode)"
   ]
  },
  {
   "cell_type": "code",
   "execution_count": 17,
   "id": "9928395f",
   "metadata": {},
   "outputs": [
    {
     "data": {
      "text/plain": [
       "RTX 3050              1500\n",
       "RTX 3060               122\n",
       "RTX 3070                97\n",
       "RTX 4060                62\n",
       "RTX 3080                51\n",
       "GTX 1650                50\n",
       "RTX 4070                40\n",
       "RTX 4050                33\n",
       "RTX 2070                25\n",
       "RTX 2060                20\n",
       "RTX 4080                18\n",
       "RTX 4090                17\n",
       "GTX 1660                14\n",
       "RTX 2050                11\n",
       "Radeon Pro 5500M         9\n",
       "RTX A2000                8\n",
       "RTX 2080                 7\n",
       "MX 450                   7\n",
       "RTX A3000                7\n",
       "RTX A1000                6\n",
       "T 1200                   6\n",
       "MX 550                   5\n",
       "MX 330                   5\n",
       "T 500                    5\n",
       "T 550                    4\n",
       "GTX 1050                 3\n",
       "Radeon Pro RX 560X       3\n",
       "RTX A5500                3\n",
       "RX 6500M                 3\n",
       "RX 7600S                 2\n",
       "T 600                    2\n",
       "Radeon Pro 5300M         2\n",
       "610 M                    2\n",
       "RX 6700M                 1\n",
       "P 500                    1\n",
       "MX 130                   1\n",
       "A 370M                   1\n",
       "RX 6800S                 1\n",
       "T 2000                   1\n",
       "RTX 3000                 1\n",
       "A 730M                   1\n",
       "Radeon RX 6600M          1\n",
       "T 1000                   1\n",
       "GTX 1070                 1\n",
       "Name: GPU, dtype: int64"
      ]
     },
     "execution_count": 17,
     "metadata": {},
     "output_type": "execute_result"
    }
   ],
   "source": [
    "data_df[\"GPU\"].value_counts()"
   ]
  },
  {
   "cell_type": "code",
   "execution_count": 18,
   "id": "4c285450",
   "metadata": {},
   "outputs": [
    {
     "data": {
      "text/plain": [
       "'RTX'"
      ]
     },
     "execution_count": 18,
     "metadata": {},
     "output_type": "execute_result"
    }
   ],
   "source": [
    "\"RTX 3050\".split()[0]"
   ]
  },
  {
   "cell_type": "code",
   "execution_count": 19,
   "id": "58d627a2",
   "metadata": {},
   "outputs": [],
   "source": [
    "data_df['GPU_brand'] = data_df['GPU'].apply(lambda x:x.split()[0])"
   ]
  },
  {
   "cell_type": "code",
   "execution_count": 20,
   "id": "7fb0391d",
   "metadata": {},
   "outputs": [],
   "source": [
    "data_df[\"CPU_brand\"] = data_df['CPU'].apply(lambda x:x.split()[0])"
   ]
  },
  {
   "cell_type": "code",
   "execution_count": 21,
   "id": "6dd2a1b3",
   "metadata": {
    "scrolled": true
   },
   "outputs": [
    {
     "data": {
      "text/html": [
       "<div>\n",
       "<style scoped>\n",
       "    .dataframe tbody tr th:only-of-type {\n",
       "        vertical-align: middle;\n",
       "    }\n",
       "\n",
       "    .dataframe tbody tr th {\n",
       "        vertical-align: top;\n",
       "    }\n",
       "\n",
       "    .dataframe thead th {\n",
       "        text-align: right;\n",
       "    }\n",
       "</style>\n",
       "<table border=\"1\" class=\"dataframe\">\n",
       "  <thead>\n",
       "    <tr style=\"text-align: right;\">\n",
       "      <th></th>\n",
       "      <th>Laptop</th>\n",
       "      <th>Status</th>\n",
       "      <th>Brand</th>\n",
       "      <th>Model</th>\n",
       "      <th>CPU</th>\n",
       "      <th>RAM</th>\n",
       "      <th>Storage</th>\n",
       "      <th>Storage type</th>\n",
       "      <th>GPU</th>\n",
       "      <th>Screen</th>\n",
       "      <th>Touch</th>\n",
       "      <th>Final Price</th>\n",
       "      <th>Brand Model</th>\n",
       "      <th>GPU_brand</th>\n",
       "      <th>CPU_brand</th>\n",
       "    </tr>\n",
       "  </thead>\n",
       "  <tbody>\n",
       "    <tr>\n",
       "      <th>0</th>\n",
       "      <td>ASUS ExpertBook B1 B1502CBA-EJ0436X Intel Core...</td>\n",
       "      <td>1</td>\n",
       "      <td>Asus</td>\n",
       "      <td>ExpertBook</td>\n",
       "      <td>Intel Core i5</td>\n",
       "      <td>8</td>\n",
       "      <td>512</td>\n",
       "      <td>1</td>\n",
       "      <td>RTX 3050</td>\n",
       "      <td>15.6</td>\n",
       "      <td>0</td>\n",
       "      <td>1009.00</td>\n",
       "      <td>Asus_ExpertBook</td>\n",
       "      <td>RTX</td>\n",
       "      <td>Intel</td>\n",
       "    </tr>\n",
       "    <tr>\n",
       "      <th>1</th>\n",
       "      <td>Alurin Go Start Intel Celeron N4020/8GB/256GB ...</td>\n",
       "      <td>1</td>\n",
       "      <td>Alurin</td>\n",
       "      <td>Go</td>\n",
       "      <td>Intel Celeron</td>\n",
       "      <td>8</td>\n",
       "      <td>256</td>\n",
       "      <td>1</td>\n",
       "      <td>RTX 3050</td>\n",
       "      <td>15.6</td>\n",
       "      <td>0</td>\n",
       "      <td>299.00</td>\n",
       "      <td>Alurin_Go</td>\n",
       "      <td>RTX</td>\n",
       "      <td>Intel</td>\n",
       "    </tr>\n",
       "    <tr>\n",
       "      <th>2</th>\n",
       "      <td>ASUS ExpertBook B1 B1502CBA-EJ0424X Intel Core...</td>\n",
       "      <td>1</td>\n",
       "      <td>Asus</td>\n",
       "      <td>ExpertBook</td>\n",
       "      <td>Intel Core i3</td>\n",
       "      <td>8</td>\n",
       "      <td>256</td>\n",
       "      <td>1</td>\n",
       "      <td>RTX 3050</td>\n",
       "      <td>15.6</td>\n",
       "      <td>0</td>\n",
       "      <td>789.00</td>\n",
       "      <td>Asus_ExpertBook</td>\n",
       "      <td>RTX</td>\n",
       "      <td>Intel</td>\n",
       "    </tr>\n",
       "    <tr>\n",
       "      <th>3</th>\n",
       "      <td>MSI Katana GF66 12UC-082XES Intel Core i7-1270...</td>\n",
       "      <td>1</td>\n",
       "      <td>MSI</td>\n",
       "      <td>Katana</td>\n",
       "      <td>Intel Core i7</td>\n",
       "      <td>16</td>\n",
       "      <td>1000</td>\n",
       "      <td>1</td>\n",
       "      <td>RTX 3050</td>\n",
       "      <td>15.6</td>\n",
       "      <td>0</td>\n",
       "      <td>1199.00</td>\n",
       "      <td>MSI_Katana</td>\n",
       "      <td>RTX</td>\n",
       "      <td>Intel</td>\n",
       "    </tr>\n",
       "    <tr>\n",
       "      <th>4</th>\n",
       "      <td>HP 15S-FQ5085NS Intel Core i5-1235U/16GB/512GB...</td>\n",
       "      <td>1</td>\n",
       "      <td>HP</td>\n",
       "      <td>15S</td>\n",
       "      <td>Intel Core i5</td>\n",
       "      <td>16</td>\n",
       "      <td>512</td>\n",
       "      <td>1</td>\n",
       "      <td>RTX 3050</td>\n",
       "      <td>15.6</td>\n",
       "      <td>0</td>\n",
       "      <td>669.01</td>\n",
       "      <td>HP_15S</td>\n",
       "      <td>RTX</td>\n",
       "      <td>Intel</td>\n",
       "    </tr>\n",
       "  </tbody>\n",
       "</table>\n",
       "</div>"
      ],
      "text/plain": [
       "                                              Laptop  Status   Brand  \\\n",
       "0  ASUS ExpertBook B1 B1502CBA-EJ0436X Intel Core...       1    Asus   \n",
       "1  Alurin Go Start Intel Celeron N4020/8GB/256GB ...       1  Alurin   \n",
       "2  ASUS ExpertBook B1 B1502CBA-EJ0424X Intel Core...       1    Asus   \n",
       "3  MSI Katana GF66 12UC-082XES Intel Core i7-1270...       1     MSI   \n",
       "4  HP 15S-FQ5085NS Intel Core i5-1235U/16GB/512GB...       1      HP   \n",
       "\n",
       "        Model            CPU  RAM  Storage  Storage type       GPU  Screen  \\\n",
       "0  ExpertBook  Intel Core i5    8      512             1  RTX 3050    15.6   \n",
       "1          Go  Intel Celeron    8      256             1  RTX 3050    15.6   \n",
       "2  ExpertBook  Intel Core i3    8      256             1  RTX 3050    15.6   \n",
       "3      Katana  Intel Core i7   16     1000             1  RTX 3050    15.6   \n",
       "4         15S  Intel Core i5   16      512             1  RTX 3050    15.6   \n",
       "\n",
       "   Touch  Final Price      Brand Model GPU_brand CPU_brand  \n",
       "0      0      1009.00  Asus_ExpertBook       RTX     Intel  \n",
       "1      0       299.00        Alurin_Go       RTX     Intel  \n",
       "2      0       789.00  Asus_ExpertBook       RTX     Intel  \n",
       "3      0      1199.00       MSI_Katana       RTX     Intel  \n",
       "4      0       669.01           HP_15S       RTX     Intel  "
      ]
     },
     "execution_count": 21,
     "metadata": {},
     "output_type": "execute_result"
    }
   ],
   "source": [
    "data_df.head()"
   ]
  },
  {
   "cell_type": "code",
   "execution_count": 22,
   "id": "f5253a6e",
   "metadata": {},
   "outputs": [
    {
     "data": {
      "text/plain": [
       "<AxesSubplot:xlabel='GPU_brand', ylabel='Final Price'>"
      ]
     },
     "execution_count": 22,
     "metadata": {},
     "output_type": "execute_result"
    },
    {
     "data": {
      "image/png": "[encoded data removed]",
      "text/plain": [
       "<Figure size 432x288 with 1 Axes>"
      ]
     },
     "metadata": {
      "needs_background": "light"
     },
     "output_type": "display_data"
    }
   ],
   "source": [
    "sns.barplot(x=data_df['GPU_brand'],y=data_df['Final Price'])"
   ]
  },
  {
   "cell_type": "code",
   "execution_count": 23,
   "id": "4529948d",
   "metadata": {},
   "outputs": [
    {
     "data": {
      "text/plain": [
       "RTX       2028\n",
       "GTX         68\n",
       "T           19\n",
       "MX          18\n",
       "Radeon      15\n",
       "RX           7\n",
       "610          2\n",
       "A            2\n",
       "P            1\n",
       "Name: GPU_brand, dtype: int64"
      ]
     },
     "execution_count": 23,
     "metadata": {},
     "output_type": "execute_result"
    }
   ],
   "source": [
    "data_df[\"GPU_brand\"].value_counts()"
   ]
  },
  {
   "cell_type": "code",
   "execution_count": 24,
   "id": "5c36ceab",
   "metadata": {},
   "outputs": [],
   "source": [
    "#we shall remove the 5 rows corresponding to 610, A, P brands\n",
    "\n",
    "gpu_index = data_df[(data_df[\"GPU_brand\"]== \"610\") | (data_df[\"GPU_brand\"]== \"A\") | (data_df[\"GPU_brand\"]== \"P\")].index"
   ]
  },
  {
   "cell_type": "code",
   "execution_count": 25,
   "id": "0c862ec0",
   "metadata": {},
   "outputs": [],
   "source": [
    "data_df.drop(gpu_index,axis=0,inplace= True)"
   ]
  },
  {
   "cell_type": "code",
   "execution_count": 26,
   "id": "de7c7649",
   "metadata": {},
   "outputs": [
    {
     "data": {
      "text/plain": [
       "2155"
      ]
     },
     "execution_count": 26,
     "metadata": {},
     "output_type": "execute_result"
    }
   ],
   "source": [
    "len(data_df)"
   ]
  },
  {
   "cell_type": "code",
   "execution_count": 27,
   "id": "56b6a6d2",
   "metadata": {},
   "outputs": [
    {
     "data": {
      "text/plain": [
       "Intel        1688\n",
       "AMD           399\n",
       "Apple          59\n",
       "Qualcomm        5\n",
       "Microsoft       3\n",
       "Mediatek        1\n",
       "Name: CPU_brand, dtype: int64"
      ]
     },
     "execution_count": 27,
     "metadata": {},
     "output_type": "execute_result"
    }
   ],
   "source": [
    "data_df[\"CPU_brand\"].value_counts()"
   ]
  },
  {
   "cell_type": "code",
   "execution_count": 28,
   "id": "d48f3cfe",
   "metadata": {},
   "outputs": [],
   "source": [
    "cpu_index = data_df[data_df[\"CPU_brand\"]==\"Mediatek\"].index\n",
    "data_df.drop(cpu_index,axis=0,inplace= True)"
   ]
  },
  {
   "cell_type": "code",
   "execution_count": 29,
   "id": "7e7f97bf",
   "metadata": {},
   "outputs": [
    {
     "data": {
      "text/plain": [
       "2154"
      ]
     },
     "execution_count": 29,
     "metadata": {},
     "output_type": "execute_result"
    }
   ],
   "source": [
    "len(data_df)"
   ]
  },
  {
   "cell_type": "code",
   "execution_count": 30,
   "id": "418c1d13",
   "metadata": {},
   "outputs": [],
   "source": [
    "data_df.reset_index(inplace=True)\n",
    "data_df.drop([\"index\"],axis=1,inplace=True)"
   ]
  },
  {
   "cell_type": "markdown",
   "id": "65c7b38a",
   "metadata": {},
   "source": [
    "## Binning the continuous variables"
   ]
  },
  {
   "cell_type": "code",
   "execution_count": 31,
   "id": "a40c4991",
   "metadata": {},
   "outputs": [],
   "source": [
    "ram_labels=['less_than_10GB','12_to_32GB','40_to_128GB']\n",
    "ram_bins=[3, 8, 32,128]\n",
    "\n",
    "data_df['RAM_category'] = pd.cut(data_df['RAM'],bins=ram_bins,labels=ram_labels)\n",
    "data_df['RAM_category'] = data_df[\"RAM_category\"].astype('object')"
   ]
  },
  {
   "cell_type": "code",
   "execution_count": 32,
   "id": "aa9b39e1",
   "metadata": {},
   "outputs": [],
   "source": [
    "storage_labels=['less_than_100','100_to_500','500_to_1000','2000','3000','4000']\n",
    "storage_bins=[-1,100,500,1000,2000,3000,5000]\n",
    "\n",
    "data_df[\"Storage_category\"] = pd.cut(data_df[\"Storage\"],bins = storage_bins,labels = storage_labels)\n",
    "data_df['Storage_category'] = data_df[\"Storage_category\"].astype('object')"
   ]
  },
  {
   "cell_type": "code",
   "execution_count": 33,
   "id": "9fd97a0a",
   "metadata": {},
   "outputs": [],
   "source": [
    "screen_labels=['10_to_12','12_to_14','14_to_16','16_to_18']\n",
    "screen_bins=[9,12,14,16,18]\n",
    "\n",
    "data_df[\"Screen_category\"] = pd.cut(data_df[\"Screen\"],bins = screen_bins,labels = screen_labels)\n",
    "data_df[\"Screen_category\"] = data_df[\"Screen_category\"].astype('object')"
   ]
  },
  {
   "cell_type": "code",
   "execution_count": 34,
   "id": "64cab436",
   "metadata": {},
   "outputs": [],
   "source": [
    "## Encode the binned variables\n",
    "ram_encode = {'less_than_10GB':0,'12_to_32GB':1,'40_to_128GB':2}\n",
    "storage_encode = {'less_than_100':0,'100_to_500':1,'500_to_1000':2,'2000':3,'3000':4,'4000':5}\n",
    "screen_encode = {'10_to_12':0,'12_to_14':1,'14_to_16':2,'16_to_18':3}\n",
    "\n",
    "\n",
    "data_df[\"RAM_category\"] = data_df[\"RAM_category\"].map(ram_encode)\n",
    "data_df[\"Storage_category\"] = data_df[\"Storage_category\"].map(storage_encode)\n",
    "data_df[\"Screen_category\"]= data_df[\"Screen_category\"].map(screen_encode)"
   ]
  },
  {
   "cell_type": "code",
   "execution_count": 35,
   "id": "e6de7377",
   "metadata": {},
   "outputs": [
    {
     "data": {
      "text/plain": [
       "<AxesSubplot:xlabel='RAM_category', ylabel='Final Price'>"
      ]
     },
     "execution_count": 35,
     "metadata": {},
     "output_type": "execute_result"
    },
    {
     "data": {
      "image/png": "[encoded data removed]",
      "text/plain": [
       "<Figure size 432x288 with 1 Axes>"
      ]
     },
     "metadata": {
      "needs_background": "light"
     },
     "output_type": "display_data"
    }
   ],
   "source": [
    "sns.barplot(x=data_df['RAM_category'],y=data_df['Final Price'])"
   ]
  },
  {
   "cell_type": "code",
   "execution_count": 36,
   "id": "7b0b8125",
   "metadata": {},
   "outputs": [
    {
     "data": {
      "text/plain": [
       "<AxesSubplot:xlabel='Screen_category', ylabel='Final Price'>"
      ]
     },
     "execution_count": 36,
     "metadata": {},
     "output_type": "execute_result"
    },
    {
     "data": {
      "image/png": "[encoded data removed]",
      "text/plain": [
       "<Figure size 432x288 with 1 Axes>"
      ]
     },
     "metadata": {
      "needs_background": "light"
     },
     "output_type": "display_data"
    }
   ],
   "source": [
    "sns.barplot(x=data_df['Screen_category'],y=data_df['Final Price'])"
   ]
  },
  {
   "cell_type": "code",
   "execution_count": 37,
   "id": "f5da09e7",
   "metadata": {},
   "outputs": [
    {
     "data": {
      "text/plain": [
       "<AxesSubplot:xlabel='Storage_category', ylabel='Final Price'>"
      ]
     },
     "execution_count": 37,
     "metadata": {},
     "output_type": "execute_result"
    },
    {
     "data": {
      "image/png": "[encoded data removed]",
      "text/plain": [
       "<Figure size 432x288 with 1 Axes>"
      ]
     },
     "metadata": {
      "needs_background": "light"
     },
     "output_type": "display_data"
    }
   ],
   "source": [
    "sns.barplot(x=data_df['Storage_category'],y=data_df['Final Price'])"
   ]
  },
  {
   "cell_type": "code",
   "execution_count": 38,
   "id": "06a07fd3",
   "metadata": {},
   "outputs": [
    {
     "name": "stdout",
     "output_type": "stream",
     "text": [
      "<class 'pandas.core.frame.DataFrame'>\n",
      "RangeIndex: 2154 entries, 0 to 2153\n",
      "Data columns (total 18 columns):\n",
      " #   Column            Non-Null Count  Dtype  \n",
      "---  ------            --------------  -----  \n",
      " 0   Laptop            2154 non-null   object \n",
      " 1   Status            2154 non-null   int64  \n",
      " 2   Brand             2154 non-null   object \n",
      " 3   Model             2154 non-null   object \n",
      " 4   CPU               2154 non-null   object \n",
      " 5   RAM               2154 non-null   int64  \n",
      " 6   Storage           2154 non-null   int64  \n",
      " 7   Storage type      2154 non-null   int64  \n",
      " 8   GPU               2154 non-null   object \n",
      " 9   Screen            2154 non-null   float64\n",
      " 10  Touch             2154 non-null   int64  \n",
      " 11  Final Price       2154 non-null   float64\n",
      " 12  Brand Model       2154 non-null   object \n",
      " 13  GPU_brand         2154 non-null   object \n",
      " 14  CPU_brand         2154 non-null   object \n",
      " 15  RAM_category      2154 non-null   int64  \n",
      " 16  Storage_category  2154 non-null   int64  \n",
      " 17  Screen_category   2154 non-null   int64  \n",
      "dtypes: float64(2), int64(8), object(8)\n",
      "memory usage: 303.0+ KB\n"
     ]
    }
   ],
   "source": [
    "data_df.info()"
   ]
  },
  {
   "cell_type": "code",
   "execution_count": 39,
   "id": "843816a4",
   "metadata": {},
   "outputs": [
    {
     "data": {
      "text/plain": [
       "array(['Asus_ExpertBook', 'Alurin_Go', 'MSI_Katana', 'HP_15S',\n",
       "       'MSI_Crosshair', 'Lenovo_ThinkPad', 'Asus_VivoBook',\n",
       "       'Medion_Akoya', 'HP_Victus', 'Lenovo_V15', 'MSI_Thin', 'Asus_ROG',\n",
       "       'Lenovo_IdeaPad', 'MSI_Cyborg', 'Asus_M515UA', 'Asus_TUF',\n",
       "       'Acer_Aspire', 'HP_Pavilion', 'MSI_Vector', 'Asus_Chromebook',\n",
       "       'HP_Omen', 'Asus_ZenBook', 'MSI_Creator', 'Apple_MacBook Air',\n",
       "       'Lenovo_ThinkBook', 'HP_250', 'MSI_Modern', 'HP_255',\n",
       "       'Apple_MacBook Pro', 'MSI_Prestige', 'MSI_Stealth', 'MSI_Pulse',\n",
       "       'Razer_Blade', 'Lenovo_Legion', 'MSI_Raider', 'HP_ProBook',\n",
       "       'Asus_F515', 'Gigabyte_G5', 'HP_Chromebook', 'Dell_Vostro',\n",
       "       'Acer_Nitro', 'LG_Gram', 'Asus_E410', 'Alurin_Flex Advance',\n",
       "       'MSI_Bravo', 'Gigabyte_Aero', 'Lenovo_Yoga', 'Samsung_Galaxy Book',\n",
       "       'Medion_Erazer', 'MSI_Summit', 'LG_Ultra', 'Acer_Extensa',\n",
       "       'Alurin_Flex', 'HP_EliteBook', 'PcCom_Revolt', 'Dell_Latitude',\n",
       "       'HP_Envy', 'Medion_Deputy', 'Acer_Predator',\n",
       "       'Microsoft_Surface Laptop', 'Asus_14w', 'MSI_Titan',\n",
       "       'Primux_Ioxbook', 'Gigabyte_Aorus', 'Prixton_Flex', 'Acer_Swift',\n",
       "       'Microsoft_Surface Go', 'Prixton_Netbook Pro',\n",
       "       'Microsoft_Surface Pro', 'HP_Notebook', 'HP_470', 'HP_Spectre',\n",
       "       'Alurin_Alurin', 'Acer_Chromebook',\n",
       "       'Dynabook Toshiba_Satellite Pro', 'Dell_XPS', 'Acer_ConceptD',\n",
       "       'Asus_E510', 'Medion_Beast', 'Acer_TravelMate',\n",
       "       'Dynabook Toshiba_Portégé', 'Dynabook Toshiba_Tecra',\n",
       "       'Thomson_Neo', 'Lenovo_Chromebook', 'Denver_Electronics', 'HP_14S',\n",
       "       'Medion_Classmate Pro', 'HP_17', 'HP_Zbook', 'Asus_BR',\n",
       "       'Lenovo_250', 'Lenovo_300w', 'Asus_M515', 'Deep Gaming_Nubian',\n",
       "       'Lenovo_100e', 'Vant_Moove', 'Lenovo_V14', 'Asus_ProArt',\n",
       "       'Lenovo_100w', 'Samsung_Chromebook', 'Lenovo_V17', 'Asus_F415EA',\n",
       "       'Lenovo_LOQ', 'Apple_Macbook', 'MSI_Leopard', 'Gigabyte_U4',\n",
       "       'Asus_P1511', 'Acer_Enduro', 'Asus_Ultra', 'Dell_Precision',\n",
       "       'Gigabyte_G7', 'HP_G7', 'HP_Go', 'Innjoo_Voom', 'Jetwing_N1510',\n",
       "       'Lenovo_14w', 'MSI_WS63', 'Millenium_AURELION', 'Millenium_AZIR',\n",
       "       'Realme_Book Prime', 'Thomson_Go', 'Toshiba_Tecra', 'Vant_Edge',\n",
       "       'Asus_G7', 'Acer_Book', 'Asus_F415', 'Asus_P1411', 'Gigabyte_A7',\n",
       "       'LG_15U70N', 'Lenovo_V330', 'MSI_Alpha', 'MSI_Delta', 'MSI_GL65',\n",
       "       'MSI_GL75', 'Razer_Book'], dtype=object)"
      ]
     },
     "execution_count": 39,
     "metadata": {},
     "output_type": "execute_result"
    }
   ],
   "source": [
    "data_df[\"Brand Model\"].unique()"
   ]
  },
  {
   "cell_type": "code",
   "execution_count": 40,
   "id": "28de5bbf",
   "metadata": {},
   "outputs": [
    {
     "name": "stderr",
     "output_type": "stream",
     "text": [
      "C:\\Users\\nswet\\anaconda3\\lib\\site-packages\\seaborn\\_decorators.py:36: FutureWarning: Pass the following variable as a keyword arg: x. From version 0.12, the only valid positional argument will be `data`, and passing other arguments without an explicit keyword will result in an error or misinterpretation.\n",
      "  warnings.warn(\n"
     ]
    },
    {
     "data": {
      "image/png": "[encoded data removed]",
      "text/plain": [
       "<Figure size 1080x360 with 1 Axes>"
      ]
     },
     "metadata": {
      "needs_background": "light"
     },
     "output_type": "display_data"
    }
   ],
   "source": [
    "plt.figure(figsize=(15,5))\n",
    "sns.countplot(data_df['Brand'],order = data_df['Brand'].value_counts().index)\n",
    "plt.xlabel('Brand')\n",
    "plt.ylabel('Count')\n",
    "plt.xticks(rotation = 90)\n",
    "plt.show()"
   ]
  },
  {
   "cell_type": "code",
   "execution_count": 41,
   "id": "40254712",
   "metadata": {},
   "outputs": [
    {
     "data": {
      "text/html": [
       "<div>\n",
       "<style scoped>\n",
       "    .dataframe tbody tr th:only-of-type {\n",
       "        vertical-align: middle;\n",
       "    }\n",
       "\n",
       "    .dataframe tbody tr th {\n",
       "        vertical-align: top;\n",
       "    }\n",
       "\n",
       "    .dataframe thead th {\n",
       "        text-align: right;\n",
       "    }\n",
       "</style>\n",
       "<table border=\"1\" class=\"dataframe\">\n",
       "  <thead>\n",
       "    <tr style=\"text-align: right;\">\n",
       "      <th></th>\n",
       "      <th>Brand</th>\n",
       "      <th>avg_price_per_brand</th>\n",
       "    </tr>\n",
       "  </thead>\n",
       "  <tbody>\n",
       "    <tr>\n",
       "      <th>21</th>\n",
       "      <td>Razer</td>\n",
       "      <td>3265.701622</td>\n",
       "    </tr>\n",
       "    <tr>\n",
       "      <th>17</th>\n",
       "      <td>Millenium</td>\n",
       "      <td>1976.845000</td>\n",
       "    </tr>\n",
       "    <tr>\n",
       "      <th>14</th>\n",
       "      <td>MSI</td>\n",
       "      <td>1913.451006</td>\n",
       "    </tr>\n",
       "    <tr>\n",
       "      <th>12</th>\n",
       "      <td>LG</td>\n",
       "      <td>1730.028438</td>\n",
       "    </tr>\n",
       "    <tr>\n",
       "      <th>8</th>\n",
       "      <td>Gigabyte</td>\n",
       "      <td>1698.488958</td>\n",
       "    </tr>\n",
       "    <tr>\n",
       "      <th>18</th>\n",
       "      <td>PcCom</td>\n",
       "      <td>1606.762917</td>\n",
       "    </tr>\n",
       "    <tr>\n",
       "      <th>16</th>\n",
       "      <td>Microsoft</td>\n",
       "      <td>1595.543247</td>\n",
       "    </tr>\n",
       "    <tr>\n",
       "      <th>23</th>\n",
       "      <td>Samsung</td>\n",
       "      <td>1595.511364</td>\n",
       "    </tr>\n",
       "    <tr>\n",
       "      <th>2</th>\n",
       "      <td>Apple</td>\n",
       "      <td>1578.227672</td>\n",
       "    </tr>\n",
       "    <tr>\n",
       "      <th>4</th>\n",
       "      <td>Deep Gaming</td>\n",
       "      <td>1505.377500</td>\n",
       "    </tr>\n",
       "    <tr>\n",
       "      <th>3</th>\n",
       "      <td>Asus</td>\n",
       "      <td>1272.929225</td>\n",
       "    </tr>\n",
       "    <tr>\n",
       "      <th>5</th>\n",
       "      <td>Dell</td>\n",
       "      <td>1153.839881</td>\n",
       "    </tr>\n",
       "    <tr>\n",
       "      <th>13</th>\n",
       "      <td>Lenovo</td>\n",
       "      <td>1088.299479</td>\n",
       "    </tr>\n",
       "    <tr>\n",
       "      <th>26</th>\n",
       "      <td>Vant</td>\n",
       "      <td>1047.455455</td>\n",
       "    </tr>\n",
       "    <tr>\n",
       "      <th>0</th>\n",
       "      <td>Acer</td>\n",
       "      <td>1001.285766</td>\n",
       "    </tr>\n",
       "    <tr>\n",
       "      <th>7</th>\n",
       "      <td>Dynabook Toshiba</td>\n",
       "      <td>999.197895</td>\n",
       "    </tr>\n",
       "    <tr>\n",
       "      <th>22</th>\n",
       "      <td>Realme</td>\n",
       "      <td>999.000000</td>\n",
       "    </tr>\n",
       "    <tr>\n",
       "      <th>9</th>\n",
       "      <td>HP</td>\n",
       "      <td>951.667432</td>\n",
       "    </tr>\n",
       "    <tr>\n",
       "      <th>15</th>\n",
       "      <td>Medion</td>\n",
       "      <td>879.729677</td>\n",
       "    </tr>\n",
       "    <tr>\n",
       "      <th>25</th>\n",
       "      <td>Toshiba</td>\n",
       "      <td>799.000000</td>\n",
       "    </tr>\n",
       "    <tr>\n",
       "      <th>1</th>\n",
       "      <td>Alurin</td>\n",
       "      <td>484.701379</td>\n",
       "    </tr>\n",
       "    <tr>\n",
       "      <th>11</th>\n",
       "      <td>Jetwing</td>\n",
       "      <td>469.270000</td>\n",
       "    </tr>\n",
       "    <tr>\n",
       "      <th>10</th>\n",
       "      <td>Innjoo</td>\n",
       "      <td>347.888333</td>\n",
       "    </tr>\n",
       "    <tr>\n",
       "      <th>19</th>\n",
       "      <td>Primux</td>\n",
       "      <td>339.618750</td>\n",
       "    </tr>\n",
       "    <tr>\n",
       "      <th>6</th>\n",
       "      <td>Denver</td>\n",
       "      <td>329.950000</td>\n",
       "    </tr>\n",
       "    <tr>\n",
       "      <th>24</th>\n",
       "      <td>Thomson</td>\n",
       "      <td>316.860000</td>\n",
       "    </tr>\n",
       "    <tr>\n",
       "      <th>20</th>\n",
       "      <td>Prixton</td>\n",
       "      <td>292.280000</td>\n",
       "    </tr>\n",
       "  </tbody>\n",
       "</table>\n",
       "</div>"
      ],
      "text/plain": [
       "               Brand  avg_price_per_brand\n",
       "21             Razer          3265.701622\n",
       "17         Millenium          1976.845000\n",
       "14               MSI          1913.451006\n",
       "12                LG          1730.028438\n",
       "8           Gigabyte          1698.488958\n",
       "18             PcCom          1606.762917\n",
       "16         Microsoft          1595.543247\n",
       "23           Samsung          1595.511364\n",
       "2              Apple          1578.227672\n",
       "4        Deep Gaming          1505.377500\n",
       "3               Asus          1272.929225\n",
       "5               Dell          1153.839881\n",
       "13            Lenovo          1088.299479\n",
       "26              Vant          1047.455455\n",
       "0               Acer          1001.285766\n",
       "7   Dynabook Toshiba           999.197895\n",
       "22            Realme           999.000000\n",
       "9                 HP           951.667432\n",
       "15            Medion           879.729677\n",
       "25           Toshiba           799.000000\n",
       "1             Alurin           484.701379\n",
       "11           Jetwing           469.270000\n",
       "10            Innjoo           347.888333\n",
       "19            Primux           339.618750\n",
       "6             Denver           329.950000\n",
       "24           Thomson           316.860000\n",
       "20           Prixton           292.280000"
      ]
     },
     "execution_count": 41,
     "metadata": {},
     "output_type": "execute_result"
    }
   ],
   "source": [
    "#avg_price_of_each brand\n",
    "avg_price_per_brand_df=data_df[['Brand','Final Price']].groupby(['Brand']).agg({'Final Price':['mean']})\n",
    "avg_price_per_brand_df.columns=['avg_price_per_brand']\n",
    "avg_price_per_brand_df=avg_price_per_brand_df.reset_index()\n",
    "avg_price_per_brand_df.sort_values(by='avg_price_per_brand', ascending=False)"
   ]
  },
  {
   "cell_type": "code",
   "execution_count": 42,
   "id": "99e102c3",
   "metadata": {},
   "outputs": [],
   "source": [
    "price_order=avg_price_per_brand_df.sort_values(by='avg_price_per_brand', ascending=False).Brand"
   ]
  },
  {
   "cell_type": "code",
   "execution_count": 43,
   "id": "994591d4",
   "metadata": {},
   "outputs": [
    {
     "data": {
      "text/plain": [
       "<function matplotlib.pyplot.show(close=None, block=None)>"
      ]
     },
     "execution_count": 43,
     "metadata": {},
     "output_type": "execute_result"
    },
    {
     "data": {
      "image/png": "[encoded data removed]",
      "text/plain": [
       "<Figure size 864x360 with 1 Axes>"
      ]
     },
     "metadata": {
      "needs_background": "light"
     },
     "output_type": "display_data"
    }
   ],
   "source": [
    "plt.figure(figsize=(12,5))\n",
    "sns.barplot(x='Brand',y='avg_price_per_brand',data=avg_price_per_brand_df,order=price_order)\n",
    "plt.xlabel('Brand')\n",
    "plt.ylabel('Average Price')\n",
    "plt.axhline(2000, color='red', ls='dotted')\n",
    "plt.axhline(1000, color='green', ls='--')\n",
    "plt.xticks(rotation=90)\n",
    "plt.show"
   ]
  },
  {
   "cell_type": "code",
   "execution_count": 44,
   "id": "a12cdbe2",
   "metadata": {},
   "outputs": [],
   "source": [
    "price_label=['Budget_friendly','Mid_Range','Expensive']\n",
    "price_bins=[100,1000,2000,10000]\n",
    "data_df['Brand_category']=pd.cut(data_df['Final Price'],bins=price_bins,labels=price_label)"
   ]
  },
  {
   "cell_type": "code",
   "execution_count": 45,
   "id": "48b9e7c7",
   "metadata": {
    "scrolled": true
   },
   "outputs": [
    {
     "data": {
      "image/png": "[encoded data removed]",
      "text/plain": [
       "<Figure size 864x360 with 2 Axes>"
      ]
     },
     "metadata": {
      "needs_background": "light"
     },
     "output_type": "display_data"
    }
   ],
   "source": [
    "fig, (ax1, ax2) = plt.subplots(1,2, figsize=(12,5))\n",
    "sns.barplot(x='Brand_category',y='Final Price',data=data_df,ax=ax1)\n",
    "plt.xlabel('brand_category')\n",
    "plt.ylabel('Price')\n",
    "ax1.set_title('Brand Category Vs Price')\n",
    "\n",
    "\n",
    "sns.countplot(x='Brand_category',data=data_df,ax=ax2)\n",
    "plt.xlabel('brand_category')\n",
    "plt.ylabel('No.of Laptops')\n",
    "ax2.set_title('Brand Category Vs count')\n",
    "\n",
    "plt.show()"
   ]
  },
  {
   "cell_type": "code",
   "execution_count": 46,
   "id": "ef10b45b",
   "metadata": {},
   "outputs": [],
   "source": [
    "Brand_type_encode = {\"Budget_friendly\":0, \"Mid_Range\":1, 'Expensive':2}\n",
    "data_df[\"Brand_category\"] = data_df[\"Brand_category\"].map(Brand_type_encode)"
   ]
  },
  {
   "cell_type": "code",
   "execution_count": 47,
   "id": "376dd036",
   "metadata": {},
   "outputs": [],
   "source": [
    "ohe = OneHotEncoder()\n",
    "ohe_encoded = ohe.fit_transform(data_df[['GPU_brand', 'CPU_brand']])"
   ]
  },
  {
   "cell_type": "code",
   "execution_count": 48,
   "id": "162fd217",
   "metadata": {},
   "outputs": [
    {
     "data": {
      "text/plain": [
       "array([[0., 0., 1., ..., 1., 0., 0.],\n",
       "       [0., 0., 1., ..., 1., 0., 0.],\n",
       "       [0., 0., 1., ..., 1., 0., 0.],\n",
       "       ...,\n",
       "       [0., 0., 1., ..., 1., 0., 0.],\n",
       "       [0., 0., 1., ..., 1., 0., 0.],\n",
       "       [0., 0., 1., ..., 1., 0., 0.]])"
      ]
     },
     "execution_count": 48,
     "metadata": {},
     "output_type": "execute_result"
    }
   ],
   "source": [
    "ohe_encoded.toarray()"
   ]
  },
  {
   "cell_type": "code",
   "execution_count": 49,
   "id": "94b68b0d",
   "metadata": {},
   "outputs": [
    {
     "data": {
      "text/plain": [
       "array(['GPU_brand_GTX', 'GPU_brand_MX', 'GPU_brand_RTX', 'GPU_brand_RX',\n",
       "       'GPU_brand_Radeon', 'GPU_brand_T', 'CPU_brand_AMD',\n",
       "       'CPU_brand_Apple', 'CPU_brand_Intel', 'CPU_brand_Microsoft',\n",
       "       'CPU_brand_Qualcomm'], dtype=object)"
      ]
     },
     "execution_count": 49,
     "metadata": {},
     "output_type": "execute_result"
    }
   ],
   "source": [
    "ohe.get_feature_names_out()"
   ]
  },
  {
   "cell_type": "code",
   "execution_count": 50,
   "id": "a8172c25",
   "metadata": {},
   "outputs": [],
   "source": [
    "ohe_encoded_df = pd.DataFrame(ohe_encoded.toarray(),columns=ohe.get_feature_names_out())"
   ]
  },
  {
   "cell_type": "code",
   "execution_count": 51,
   "id": "16c030e7",
   "metadata": {},
   "outputs": [
    {
     "data": {
      "text/html": [
       "<div>\n",
       "<style scoped>\n",
       "    .dataframe tbody tr th:only-of-type {\n",
       "        vertical-align: middle;\n",
       "    }\n",
       "\n",
       "    .dataframe tbody tr th {\n",
       "        vertical-align: top;\n",
       "    }\n",
       "\n",
       "    .dataframe thead th {\n",
       "        text-align: right;\n",
       "    }\n",
       "</style>\n",
       "<table border=\"1\" class=\"dataframe\">\n",
       "  <thead>\n",
       "    <tr style=\"text-align: right;\">\n",
       "      <th></th>\n",
       "      <th>GPU_brand_GTX</th>\n",
       "      <th>GPU_brand_MX</th>\n",
       "      <th>GPU_brand_RTX</th>\n",
       "      <th>GPU_brand_RX</th>\n",
       "      <th>GPU_brand_Radeon</th>\n",
       "      <th>GPU_brand_T</th>\n",
       "      <th>CPU_brand_AMD</th>\n",
       "      <th>CPU_brand_Apple</th>\n",
       "      <th>CPU_brand_Intel</th>\n",
       "      <th>CPU_brand_Microsoft</th>\n",
       "      <th>CPU_brand_Qualcomm</th>\n",
       "    </tr>\n",
       "  </thead>\n",
       "  <tbody>\n",
       "    <tr>\n",
       "      <th>0</th>\n",
       "      <td>0.0</td>\n",
       "      <td>0.0</td>\n",
       "      <td>1.0</td>\n",
       "      <td>0.0</td>\n",
       "      <td>0.0</td>\n",
       "      <td>0.0</td>\n",
       "      <td>0.0</td>\n",
       "      <td>0.0</td>\n",
       "      <td>1.0</td>\n",
       "      <td>0.0</td>\n",
       "      <td>0.0</td>\n",
       "    </tr>\n",
       "    <tr>\n",
       "      <th>1</th>\n",
       "      <td>0.0</td>\n",
       "      <td>0.0</td>\n",
       "      <td>1.0</td>\n",
       "      <td>0.0</td>\n",
       "      <td>0.0</td>\n",
       "      <td>0.0</td>\n",
       "      <td>0.0</td>\n",
       "      <td>0.0</td>\n",
       "      <td>1.0</td>\n",
       "      <td>0.0</td>\n",
       "      <td>0.0</td>\n",
       "    </tr>\n",
       "    <tr>\n",
       "      <th>2</th>\n",
       "      <td>0.0</td>\n",
       "      <td>0.0</td>\n",
       "      <td>1.0</td>\n",
       "      <td>0.0</td>\n",
       "      <td>0.0</td>\n",
       "      <td>0.0</td>\n",
       "      <td>0.0</td>\n",
       "      <td>0.0</td>\n",
       "      <td>1.0</td>\n",
       "      <td>0.0</td>\n",
       "      <td>0.0</td>\n",
       "    </tr>\n",
       "    <tr>\n",
       "      <th>3</th>\n",
       "      <td>0.0</td>\n",
       "      <td>0.0</td>\n",
       "      <td>1.0</td>\n",
       "      <td>0.0</td>\n",
       "      <td>0.0</td>\n",
       "      <td>0.0</td>\n",
       "      <td>0.0</td>\n",
       "      <td>0.0</td>\n",
       "      <td>1.0</td>\n",
       "      <td>0.0</td>\n",
       "      <td>0.0</td>\n",
       "    </tr>\n",
       "    <tr>\n",
       "      <th>4</th>\n",
       "      <td>0.0</td>\n",
       "      <td>0.0</td>\n",
       "      <td>1.0</td>\n",
       "      <td>0.0</td>\n",
       "      <td>0.0</td>\n",
       "      <td>0.0</td>\n",
       "      <td>0.0</td>\n",
       "      <td>0.0</td>\n",
       "      <td>1.0</td>\n",
       "      <td>0.0</td>\n",
       "      <td>0.0</td>\n",
       "    </tr>\n",
       "    <tr>\n",
       "      <th>...</th>\n",
       "      <td>...</td>\n",
       "      <td>...</td>\n",
       "      <td>...</td>\n",
       "      <td>...</td>\n",
       "      <td>...</td>\n",
       "      <td>...</td>\n",
       "      <td>...</td>\n",
       "      <td>...</td>\n",
       "      <td>...</td>\n",
       "      <td>...</td>\n",
       "      <td>...</td>\n",
       "    </tr>\n",
       "    <tr>\n",
       "      <th>2149</th>\n",
       "      <td>0.0</td>\n",
       "      <td>0.0</td>\n",
       "      <td>1.0</td>\n",
       "      <td>0.0</td>\n",
       "      <td>0.0</td>\n",
       "      <td>0.0</td>\n",
       "      <td>0.0</td>\n",
       "      <td>0.0</td>\n",
       "      <td>1.0</td>\n",
       "      <td>0.0</td>\n",
       "      <td>0.0</td>\n",
       "    </tr>\n",
       "    <tr>\n",
       "      <th>2150</th>\n",
       "      <td>0.0</td>\n",
       "      <td>0.0</td>\n",
       "      <td>1.0</td>\n",
       "      <td>0.0</td>\n",
       "      <td>0.0</td>\n",
       "      <td>0.0</td>\n",
       "      <td>0.0</td>\n",
       "      <td>0.0</td>\n",
       "      <td>1.0</td>\n",
       "      <td>0.0</td>\n",
       "      <td>0.0</td>\n",
       "    </tr>\n",
       "    <tr>\n",
       "      <th>2151</th>\n",
       "      <td>0.0</td>\n",
       "      <td>0.0</td>\n",
       "      <td>1.0</td>\n",
       "      <td>0.0</td>\n",
       "      <td>0.0</td>\n",
       "      <td>0.0</td>\n",
       "      <td>0.0</td>\n",
       "      <td>0.0</td>\n",
       "      <td>1.0</td>\n",
       "      <td>0.0</td>\n",
       "      <td>0.0</td>\n",
       "    </tr>\n",
       "    <tr>\n",
       "      <th>2152</th>\n",
       "      <td>0.0</td>\n",
       "      <td>0.0</td>\n",
       "      <td>1.0</td>\n",
       "      <td>0.0</td>\n",
       "      <td>0.0</td>\n",
       "      <td>0.0</td>\n",
       "      <td>0.0</td>\n",
       "      <td>0.0</td>\n",
       "      <td>1.0</td>\n",
       "      <td>0.0</td>\n",
       "      <td>0.0</td>\n",
       "    </tr>\n",
       "    <tr>\n",
       "      <th>2153</th>\n",
       "      <td>0.0</td>\n",
       "      <td>0.0</td>\n",
       "      <td>1.0</td>\n",
       "      <td>0.0</td>\n",
       "      <td>0.0</td>\n",
       "      <td>0.0</td>\n",
       "      <td>0.0</td>\n",
       "      <td>0.0</td>\n",
       "      <td>1.0</td>\n",
       "      <td>0.0</td>\n",
       "      <td>0.0</td>\n",
       "    </tr>\n",
       "  </tbody>\n",
       "</table>\n",
       "<p>2154 rows × 11 columns</p>\n",
       "</div>"
      ],
      "text/plain": [
       "      GPU_brand_GTX  GPU_brand_MX  GPU_brand_RTX  GPU_brand_RX  \\\n",
       "0               0.0           0.0            1.0           0.0   \n",
       "1               0.0           0.0            1.0           0.0   \n",
       "2               0.0           0.0            1.0           0.0   \n",
       "3               0.0           0.0            1.0           0.0   \n",
       "4               0.0           0.0            1.0           0.0   \n",
       "...             ...           ...            ...           ...   \n",
       "2149            0.0           0.0            1.0           0.0   \n",
       "2150            0.0           0.0            1.0           0.0   \n",
       "2151            0.0           0.0            1.0           0.0   \n",
       "2152            0.0           0.0            1.0           0.0   \n",
       "2153            0.0           0.0            1.0           0.0   \n",
       "\n",
       "      GPU_brand_Radeon  GPU_brand_T  CPU_brand_AMD  CPU_brand_Apple  \\\n",
       "0                  0.0          0.0            0.0              0.0   \n",
       "1                  0.0          0.0            0.0              0.0   \n",
       "2                  0.0          0.0            0.0              0.0   \n",
       "3                  0.0          0.0            0.0              0.0   \n",
       "4                  0.0          0.0            0.0              0.0   \n",
       "...                ...          ...            ...              ...   \n",
       "2149               0.0          0.0            0.0              0.0   \n",
       "2150               0.0          0.0            0.0              0.0   \n",
       "2151               0.0          0.0            0.0              0.0   \n",
       "2152               0.0          0.0            0.0              0.0   \n",
       "2153               0.0          0.0            0.0              0.0   \n",
       "\n",
       "      CPU_brand_Intel  CPU_brand_Microsoft  CPU_brand_Qualcomm  \n",
       "0                 1.0                  0.0                 0.0  \n",
       "1                 1.0                  0.0                 0.0  \n",
       "2                 1.0                  0.0                 0.0  \n",
       "3                 1.0                  0.0                 0.0  \n",
       "4                 1.0                  0.0                 0.0  \n",
       "...               ...                  ...                 ...  \n",
       "2149              1.0                  0.0                 0.0  \n",
       "2150              1.0                  0.0                 0.0  \n",
       "2151              1.0                  0.0                 0.0  \n",
       "2152              1.0                  0.0                 0.0  \n",
       "2153              1.0                  0.0                 0.0  \n",
       "\n",
       "[2154 rows x 11 columns]"
      ]
     },
     "execution_count": 51,
     "metadata": {},
     "output_type": "execute_result"
    }
   ],
   "source": [
    "ohe_encoded_df"
   ]
  },
  {
   "cell_type": "markdown",
   "id": "f29f4e78",
   "metadata": {},
   "source": [
    "### Remove unwanted columns"
   ]
  },
  {
   "cell_type": "code",
   "execution_count": 52,
   "id": "557f8f73",
   "metadata": {},
   "outputs": [],
   "source": [
    "required_columns = ['Status', 'Storage type', 'Touch', 'Final Price','RAM_category',\n",
    "                    'Storage_category','Screen_category','Brand_category']"
   ]
  },
  {
   "cell_type": "code",
   "execution_count": 53,
   "id": "c48f915a",
   "metadata": {},
   "outputs": [],
   "source": [
    "final_df = pd.concat([data_df[required_columns],ohe_encoded_df],axis=1)"
   ]
  },
  {
   "cell_type": "code",
   "execution_count": 54,
   "id": "4497e920",
   "metadata": {},
   "outputs": [
    {
     "data": {
      "text/html": [
       "<div>\n",
       "<style scoped>\n",
       "    .dataframe tbody tr th:only-of-type {\n",
       "        vertical-align: middle;\n",
       "    }\n",
       "\n",
       "    .dataframe tbody tr th {\n",
       "        vertical-align: top;\n",
       "    }\n",
       "\n",
       "    .dataframe thead th {\n",
       "        text-align: right;\n",
       "    }\n",
       "</style>\n",
       "<table border=\"1\" class=\"dataframe\">\n",
       "  <thead>\n",
       "    <tr style=\"text-align: right;\">\n",
       "      <th></th>\n",
       "      <th>Status</th>\n",
       "      <th>Storage type</th>\n",
       "      <th>Touch</th>\n",
       "      <th>Final Price</th>\n",
       "      <th>RAM_category</th>\n",
       "      <th>Storage_category</th>\n",
       "      <th>Screen_category</th>\n",
       "      <th>Brand_category</th>\n",
       "      <th>GPU_brand_GTX</th>\n",
       "      <th>GPU_brand_MX</th>\n",
       "      <th>GPU_brand_RTX</th>\n",
       "      <th>GPU_brand_RX</th>\n",
       "      <th>GPU_brand_Radeon</th>\n",
       "      <th>GPU_brand_T</th>\n",
       "      <th>CPU_brand_AMD</th>\n",
       "      <th>CPU_brand_Apple</th>\n",
       "      <th>CPU_brand_Intel</th>\n",
       "      <th>CPU_brand_Microsoft</th>\n",
       "      <th>CPU_brand_Qualcomm</th>\n",
       "    </tr>\n",
       "  </thead>\n",
       "  <tbody>\n",
       "    <tr>\n",
       "      <th>0</th>\n",
       "      <td>1</td>\n",
       "      <td>1</td>\n",
       "      <td>0</td>\n",
       "      <td>1009.00</td>\n",
       "      <td>0</td>\n",
       "      <td>2</td>\n",
       "      <td>2</td>\n",
       "      <td>1</td>\n",
       "      <td>0.0</td>\n",
       "      <td>0.0</td>\n",
       "      <td>1.0</td>\n",
       "      <td>0.0</td>\n",
       "      <td>0.0</td>\n",
       "      <td>0.0</td>\n",
       "      <td>0.0</td>\n",
       "      <td>0.0</td>\n",
       "      <td>1.0</td>\n",
       "      <td>0.0</td>\n",
       "      <td>0.0</td>\n",
       "    </tr>\n",
       "    <tr>\n",
       "      <th>1</th>\n",
       "      <td>1</td>\n",
       "      <td>1</td>\n",
       "      <td>0</td>\n",
       "      <td>299.00</td>\n",
       "      <td>0</td>\n",
       "      <td>1</td>\n",
       "      <td>2</td>\n",
       "      <td>0</td>\n",
       "      <td>0.0</td>\n",
       "      <td>0.0</td>\n",
       "      <td>1.0</td>\n",
       "      <td>0.0</td>\n",
       "      <td>0.0</td>\n",
       "      <td>0.0</td>\n",
       "      <td>0.0</td>\n",
       "      <td>0.0</td>\n",
       "      <td>1.0</td>\n",
       "      <td>0.0</td>\n",
       "      <td>0.0</td>\n",
       "    </tr>\n",
       "    <tr>\n",
       "      <th>2</th>\n",
       "      <td>1</td>\n",
       "      <td>1</td>\n",
       "      <td>0</td>\n",
       "      <td>789.00</td>\n",
       "      <td>0</td>\n",
       "      <td>1</td>\n",
       "      <td>2</td>\n",
       "      <td>0</td>\n",
       "      <td>0.0</td>\n",
       "      <td>0.0</td>\n",
       "      <td>1.0</td>\n",
       "      <td>0.0</td>\n",
       "      <td>0.0</td>\n",
       "      <td>0.0</td>\n",
       "      <td>0.0</td>\n",
       "      <td>0.0</td>\n",
       "      <td>1.0</td>\n",
       "      <td>0.0</td>\n",
       "      <td>0.0</td>\n",
       "    </tr>\n",
       "    <tr>\n",
       "      <th>3</th>\n",
       "      <td>1</td>\n",
       "      <td>1</td>\n",
       "      <td>0</td>\n",
       "      <td>1199.00</td>\n",
       "      <td>1</td>\n",
       "      <td>2</td>\n",
       "      <td>2</td>\n",
       "      <td>1</td>\n",
       "      <td>0.0</td>\n",
       "      <td>0.0</td>\n",
       "      <td>1.0</td>\n",
       "      <td>0.0</td>\n",
       "      <td>0.0</td>\n",
       "      <td>0.0</td>\n",
       "      <td>0.0</td>\n",
       "      <td>0.0</td>\n",
       "      <td>1.0</td>\n",
       "      <td>0.0</td>\n",
       "      <td>0.0</td>\n",
       "    </tr>\n",
       "    <tr>\n",
       "      <th>4</th>\n",
       "      <td>1</td>\n",
       "      <td>1</td>\n",
       "      <td>0</td>\n",
       "      <td>669.01</td>\n",
       "      <td>1</td>\n",
       "      <td>2</td>\n",
       "      <td>2</td>\n",
       "      <td>0</td>\n",
       "      <td>0.0</td>\n",
       "      <td>0.0</td>\n",
       "      <td>1.0</td>\n",
       "      <td>0.0</td>\n",
       "      <td>0.0</td>\n",
       "      <td>0.0</td>\n",
       "      <td>0.0</td>\n",
       "      <td>0.0</td>\n",
       "      <td>1.0</td>\n",
       "      <td>0.0</td>\n",
       "      <td>0.0</td>\n",
       "    </tr>\n",
       "    <tr>\n",
       "      <th>...</th>\n",
       "      <td>...</td>\n",
       "      <td>...</td>\n",
       "      <td>...</td>\n",
       "      <td>...</td>\n",
       "      <td>...</td>\n",
       "      <td>...</td>\n",
       "      <td>...</td>\n",
       "      <td>...</td>\n",
       "      <td>...</td>\n",
       "      <td>...</td>\n",
       "      <td>...</td>\n",
       "      <td>...</td>\n",
       "      <td>...</td>\n",
       "      <td>...</td>\n",
       "      <td>...</td>\n",
       "      <td>...</td>\n",
       "      <td>...</td>\n",
       "      <td>...</td>\n",
       "      <td>...</td>\n",
       "    </tr>\n",
       "    <tr>\n",
       "      <th>2149</th>\n",
       "      <td>0</td>\n",
       "      <td>1</td>\n",
       "      <td>0</td>\n",
       "      <td>2699.99</td>\n",
       "      <td>1</td>\n",
       "      <td>2</td>\n",
       "      <td>3</td>\n",
       "      <td>2</td>\n",
       "      <td>0.0</td>\n",
       "      <td>0.0</td>\n",
       "      <td>1.0</td>\n",
       "      <td>0.0</td>\n",
       "      <td>0.0</td>\n",
       "      <td>0.0</td>\n",
       "      <td>0.0</td>\n",
       "      <td>0.0</td>\n",
       "      <td>1.0</td>\n",
       "      <td>0.0</td>\n",
       "      <td>0.0</td>\n",
       "    </tr>\n",
       "    <tr>\n",
       "      <th>2150</th>\n",
       "      <td>0</td>\n",
       "      <td>1</td>\n",
       "      <td>0</td>\n",
       "      <td>2899.99</td>\n",
       "      <td>1</td>\n",
       "      <td>2</td>\n",
       "      <td>3</td>\n",
       "      <td>2</td>\n",
       "      <td>0.0</td>\n",
       "      <td>0.0</td>\n",
       "      <td>1.0</td>\n",
       "      <td>0.0</td>\n",
       "      <td>0.0</td>\n",
       "      <td>0.0</td>\n",
       "      <td>0.0</td>\n",
       "      <td>0.0</td>\n",
       "      <td>1.0</td>\n",
       "      <td>0.0</td>\n",
       "      <td>0.0</td>\n",
       "    </tr>\n",
       "    <tr>\n",
       "      <th>2151</th>\n",
       "      <td>0</td>\n",
       "      <td>1</td>\n",
       "      <td>0</td>\n",
       "      <td>3399.99</td>\n",
       "      <td>1</td>\n",
       "      <td>2</td>\n",
       "      <td>3</td>\n",
       "      <td>2</td>\n",
       "      <td>0.0</td>\n",
       "      <td>0.0</td>\n",
       "      <td>1.0</td>\n",
       "      <td>0.0</td>\n",
       "      <td>0.0</td>\n",
       "      <td>0.0</td>\n",
       "      <td>0.0</td>\n",
       "      <td>0.0</td>\n",
       "      <td>1.0</td>\n",
       "      <td>0.0</td>\n",
       "      <td>0.0</td>\n",
       "    </tr>\n",
       "    <tr>\n",
       "      <th>2152</th>\n",
       "      <td>0</td>\n",
       "      <td>1</td>\n",
       "      <td>1</td>\n",
       "      <td>1899.99</td>\n",
       "      <td>1</td>\n",
       "      <td>2</td>\n",
       "      <td>1</td>\n",
       "      <td>1</td>\n",
       "      <td>0.0</td>\n",
       "      <td>0.0</td>\n",
       "      <td>1.0</td>\n",
       "      <td>0.0</td>\n",
       "      <td>0.0</td>\n",
       "      <td>0.0</td>\n",
       "      <td>0.0</td>\n",
       "      <td>0.0</td>\n",
       "      <td>1.0</td>\n",
       "      <td>0.0</td>\n",
       "      <td>0.0</td>\n",
       "    </tr>\n",
       "    <tr>\n",
       "      <th>2153</th>\n",
       "      <td>0</td>\n",
       "      <td>1</td>\n",
       "      <td>1</td>\n",
       "      <td>1699.99</td>\n",
       "      <td>1</td>\n",
       "      <td>1</td>\n",
       "      <td>1</td>\n",
       "      <td>1</td>\n",
       "      <td>0.0</td>\n",
       "      <td>0.0</td>\n",
       "      <td>1.0</td>\n",
       "      <td>0.0</td>\n",
       "      <td>0.0</td>\n",
       "      <td>0.0</td>\n",
       "      <td>0.0</td>\n",
       "      <td>0.0</td>\n",
       "      <td>1.0</td>\n",
       "      <td>0.0</td>\n",
       "      <td>0.0</td>\n",
       "    </tr>\n",
       "  </tbody>\n",
       "</table>\n",
       "<p>2154 rows × 19 columns</p>\n",
       "</div>"
      ],
      "text/plain": [
       "      Status  Storage type  Touch  Final Price  RAM_category  \\\n",
       "0          1             1      0      1009.00             0   \n",
       "1          1             1      0       299.00             0   \n",
       "2          1             1      0       789.00             0   \n",
       "3          1             1      0      1199.00             1   \n",
       "4          1             1      0       669.01             1   \n",
       "...      ...           ...    ...          ...           ...   \n",
       "2149       0             1      0      2699.99             1   \n",
       "2150       0             1      0      2899.99             1   \n",
       "2151       0             1      0      3399.99             1   \n",
       "2152       0             1      1      1899.99             1   \n",
       "2153       0             1      1      1699.99             1   \n",
       "\n",
       "      Storage_category  Screen_category Brand_category  GPU_brand_GTX  \\\n",
       "0                    2                2              1            0.0   \n",
       "1                    1                2              0            0.0   \n",
       "2                    1                2              0            0.0   \n",
       "3                    2                2              1            0.0   \n",
       "4                    2                2              0            0.0   \n",
       "...                ...              ...            ...            ...   \n",
       "2149                 2                3              2            0.0   \n",
       "2150                 2                3              2            0.0   \n",
       "2151                 2                3              2            0.0   \n",
       "2152                 2                1              1            0.0   \n",
       "2153                 1                1              1            0.0   \n",
       "\n",
       "      GPU_brand_MX  GPU_brand_RTX  GPU_brand_RX  GPU_brand_Radeon  \\\n",
       "0              0.0            1.0           0.0               0.0   \n",
       "1              0.0            1.0           0.0               0.0   \n",
       "2              0.0            1.0           0.0               0.0   \n",
       "3              0.0            1.0           0.0               0.0   \n",
       "4              0.0            1.0           0.0               0.0   \n",
       "...            ...            ...           ...               ...   \n",
       "2149           0.0            1.0           0.0               0.0   \n",
       "2150           0.0            1.0           0.0               0.0   \n",
       "2151           0.0            1.0           0.0               0.0   \n",
       "2152           0.0            1.0           0.0               0.0   \n",
       "2153           0.0            1.0           0.0               0.0   \n",
       "\n",
       "      GPU_brand_T  CPU_brand_AMD  CPU_brand_Apple  CPU_brand_Intel  \\\n",
       "0             0.0            0.0              0.0              1.0   \n",
       "1             0.0            0.0              0.0              1.0   \n",
       "2             0.0            0.0              0.0              1.0   \n",
       "3             0.0            0.0              0.0              1.0   \n",
       "4             0.0            0.0              0.0              1.0   \n",
       "...           ...            ...              ...              ...   \n",
       "2149          0.0            0.0              0.0              1.0   \n",
       "2150          0.0            0.0              0.0              1.0   \n",
       "2151          0.0            0.0              0.0              1.0   \n",
       "2152          0.0            0.0              0.0              1.0   \n",
       "2153          0.0            0.0              0.0              1.0   \n",
       "\n",
       "      CPU_brand_Microsoft  CPU_brand_Qualcomm  \n",
       "0                     0.0                 0.0  \n",
       "1                     0.0                 0.0  \n",
       "2                     0.0                 0.0  \n",
       "3                     0.0                 0.0  \n",
       "4                     0.0                 0.0  \n",
       "...                   ...                 ...  \n",
       "2149                  0.0                 0.0  \n",
       "2150                  0.0                 0.0  \n",
       "2151                  0.0                 0.0  \n",
       "2152                  0.0                 0.0  \n",
       "2153                  0.0                 0.0  \n",
       "\n",
       "[2154 rows x 19 columns]"
      ]
     },
     "execution_count": 54,
     "metadata": {},
     "output_type": "execute_result"
    }
   ],
   "source": [
    "final_df"
   ]
  },
  {
   "cell_type": "code",
   "execution_count": 55,
   "id": "70478718",
   "metadata": {},
   "outputs": [],
   "source": [
    "y = final_df.pop(\"Final Price\")\n",
    "X = final_df"
   ]
  },
  {
   "cell_type": "code",
   "execution_count": 56,
   "id": "9f13b4c4",
   "metadata": {},
   "outputs": [],
   "source": [
    "X_train, X_test, y_train, y_test = train_test_split(X,y,test_size=0.20,random_state=42)"
   ]
  },
  {
   "cell_type": "code",
   "execution_count": 57,
   "id": "f6d0d39e",
   "metadata": {},
   "outputs": [
    {
     "name": "stdout",
     "output_type": "stream",
     "text": [
      "Shape of X_train (1723, 18)\n",
      "Shape of y_train (1723,)\n",
      "Shape of X_test (431, 18)\n",
      "Shape of y_test (431,)\n"
     ]
    }
   ],
   "source": [
    "print(\"Shape of X_train\",X_train.shape)\n",
    "print(\"Shape of y_train\",y_train.shape)\n",
    "print(\"Shape of X_test\",X_test.shape)\n",
    "print(\"Shape of y_test\",y_test.shape)"
   ]
  },
  {
   "cell_type": "code",
   "execution_count": 58,
   "id": "09ea75b1",
   "metadata": {},
   "outputs": [],
   "source": [
    "### Build FNN model\n",
    "fnn_model = Sequential()\n",
    "fnn_model.add(Dense(input_dim=18,units=16, activation='relu'))\n",
    "fnn_model.add(Dense(units=8, activation='relu'))\n",
    "fnn_model.add(Dense(units=1, activation='linear'))\n",
    "\n",
    "opt=Adam(1e-1)\n",
    "fnn_model.compile(loss=MeanSquaredError(),  optimizer=opt , metrics=mean_squared_error)"
   ]
  },
  {
   "cell_type": "code",
   "execution_count": 59,
   "id": "c80fc885",
   "metadata": {},
   "outputs": [],
   "source": [
    "from tensorflow.keras.callbacks import EarlyStopping\n",
    "from tensorflow.keras.callbacks import ReduceLROnPlateau"
   ]
  },
  {
   "cell_type": "code",
   "execution_count": 60,
   "id": "7e5100de",
   "metadata": {},
   "outputs": [
    {
     "name": "stdout",
     "output_type": "stream",
     "text": [
      "Epoch 1/400\n",
      "25/25 [==============================] - 1s 7ms/step - loss: 1625259.7500 - mean_squared_error: 1625259.7500 - val_loss: 561775.3750 - val_mean_squared_error: 561775.3750 - lr: 0.1000\n",
      "Epoch 2/400\n",
      "25/25 [==============================] - 0s 2ms/step - loss: 448483.5938 - mean_squared_error: 448483.5938 - val_loss: 214812.0625 - val_mean_squared_error: 214812.0625 - lr: 0.1000\n",
      "Epoch 3/400\n",
      "25/25 [==============================] - 0s 2ms/step - loss: 264523.8125 - mean_squared_error: 264523.8125 - val_loss: 107536.9688 - val_mean_squared_error: 107536.9688 - lr: 0.1000\n",
      "Epoch 4/400\n",
      "25/25 [==============================] - 0s 2ms/step - loss: 199449.4219 - mean_squared_error: 199449.4219 - val_loss: 116627.5391 - val_mean_squared_error: 116627.5391 - lr: 0.1000\n",
      "Epoch 5/400\n",
      "25/25 [==============================] - 0s 2ms/step - loss: 181985.8438 - mean_squared_error: 181985.8438 - val_loss: 97622.0234 - val_mean_squared_error: 97622.0234 - lr: 0.1000\n",
      "Epoch 6/400\n",
      "25/25 [==============================] - 0s 2ms/step - loss: 176837.2031 - mean_squared_error: 176837.2031 - val_loss: 90409.7656 - val_mean_squared_error: 90409.7656 - lr: 0.1000\n",
      "Epoch 7/400\n",
      "25/25 [==============================] - 0s 2ms/step - loss: 169850.5781 - mean_squared_error: 169850.5781 - val_loss: 88174.9062 - val_mean_squared_error: 88174.9062 - lr: 0.1000\n",
      "Epoch 8/400\n",
      "25/25 [==============================] - 0s 2ms/step - loss: 169705.2344 - mean_squared_error: 169705.2344 - val_loss: 88037.5625 - val_mean_squared_error: 88037.5625 - lr: 0.1000\n",
      "Epoch 9/400\n",
      "25/25 [==============================] - 0s 3ms/step - loss: 163765.9219 - mean_squared_error: 163765.9219 - val_loss: 113996.6328 - val_mean_squared_error: 113996.6328 - lr: 0.1000\n",
      "Epoch 10/400\n",
      "25/25 [==============================] - 0s 2ms/step - loss: 164367.5938 - mean_squared_error: 164367.5938 - val_loss: 74494.2109 - val_mean_squared_error: 74494.2109 - lr: 0.1000\n",
      "Epoch 11/400\n",
      "25/25 [==============================] - 0s 2ms/step - loss: 162251.7344 - mean_squared_error: 162251.7344 - val_loss: 84404.6484 - val_mean_squared_error: 84404.6484 - lr: 0.1000\n",
      "Epoch 12/400\n",
      "25/25 [==============================] - 0s 2ms/step - loss: 160654.4062 - mean_squared_error: 160654.4062 - val_loss: 86048.8438 - val_mean_squared_error: 86048.8438 - lr: 0.1000\n",
      "Epoch 13/400\n",
      "25/25 [==============================] - 0s 3ms/step - loss: 151427.6719 - mean_squared_error: 151427.6719 - val_loss: 73190.1172 - val_mean_squared_error: 73190.1172 - lr: 0.1000\n",
      "Epoch 14/400\n",
      "25/25 [==============================] - 0s 2ms/step - loss: 151184.8125 - mean_squared_error: 151184.8125 - val_loss: 109672.4531 - val_mean_squared_error: 109672.4531 - lr: 0.1000\n",
      "Epoch 15/400\n",
      "25/25 [==============================] - 0s 2ms/step - loss: 155099.7031 - mean_squared_error: 155099.7031 - val_loss: 69373.6094 - val_mean_squared_error: 69373.6094 - lr: 0.1000\n",
      "Epoch 16/400\n",
      "25/25 [==============================] - 0s 2ms/step - loss: 150182.6719 - mean_squared_error: 150182.6719 - val_loss: 84192.8984 - val_mean_squared_error: 84192.8984 - lr: 0.1000\n",
      "Epoch 17/400\n",
      "25/25 [==============================] - 0s 2ms/step - loss: 143029.7031 - mean_squared_error: 143029.7031 - val_loss: 100334.5312 - val_mean_squared_error: 100334.5312 - lr: 0.1000\n",
      "Epoch 18/400\n",
      "25/25 [==============================] - 0s 2ms/step - loss: 154912.3125 - mean_squared_error: 154912.3125 - val_loss: 69112.2344 - val_mean_squared_error: 69112.2344 - lr: 0.1000\n",
      "Epoch 19/400\n",
      "25/25 [==============================] - 0s 3ms/step - loss: 148916.6562 - mean_squared_error: 148916.6562 - val_loss: 73517.2500 - val_mean_squared_error: 73517.2500 - lr: 0.1000\n",
      "Epoch 20/400\n",
      "25/25 [==============================] - 0s 2ms/step - loss: 138634.6250 - mean_squared_error: 138634.6250 - val_loss: 76240.9922 - val_mean_squared_error: 76240.9922 - lr: 0.1000\n",
      "Epoch 21/400\n",
      " 1/25 [>.............................] - ETA: 0s - loss: 72896.5312 - mean_squared_error: 72896.5312\n",
      "Epoch 21: ReduceLROnPlateau reducing learning rate to 0.05000000074505806.\n",
      "25/25 [==============================] - 0s 3ms/step - loss: 141892.4844 - mean_squared_error: 141892.4844 - val_loss: 81278.8359 - val_mean_squared_error: 81278.8359 - lr: 0.1000\n",
      "Epoch 22/400\n",
      "25/25 [==============================] - 0s 3ms/step - loss: 141763.7188 - mean_squared_error: 141763.7188 - val_loss: 73284.3203 - val_mean_squared_error: 73284.3203 - lr: 0.0500\n",
      "Epoch 23/400\n",
      "25/25 [==============================] - 0s 3ms/step - loss: 142326.7344 - mean_squared_error: 142326.7344 - val_loss: 70432.8359 - val_mean_squared_error: 70432.8359 - lr: 0.0500\n",
      "Epoch 24/400\n",
      " 1/25 [>.............................] - ETA: 0s - loss: 48036.7266 - mean_squared_error: 48036.7266\n",
      "Epoch 24: ReduceLROnPlateau reducing learning rate to 0.02500000037252903.\n",
      "25/25 [==============================] - 0s 2ms/step - loss: 140403.7031 - mean_squared_error: 140403.7031 - val_loss: 86279.1797 - val_mean_squared_error: 86279.1797 - lr: 0.0500\n",
      "Epoch 25/400\n",
      "25/25 [==============================] - 0s 2ms/step - loss: 138321.6250 - mean_squared_error: 138321.6250 - val_loss: 76701.2734 - val_mean_squared_error: 76701.2734 - lr: 0.0250\n",
      "Epoch 26/400\n",
      "25/25 [==============================] - 0s 3ms/step - loss: 134866.6250 - mean_squared_error: 134866.6250 - val_loss: 78963.2500 - val_mean_squared_error: 78963.2500 - lr: 0.0250\n",
      "Epoch 27/400\n",
      " 1/25 [>.............................] - ETA: 0s - loss: 143429.5000 - mean_squared_error: 143429.5000\n",
      "Epoch 27: ReduceLROnPlateau reducing learning rate to 0.012500000186264515.\n",
      "25/25 [==============================] - 0s 2ms/step - loss: 137346.1875 - mean_squared_error: 137346.1875 - val_loss: 89461.8359 - val_mean_squared_error: 89461.8359 - lr: 0.0250\n",
      "Epoch 28/400\n",
      " 1/25 [>.............................] - ETA: 0s - loss: 114293.7969 - mean_squared_error: 114293.7969Restoring model weights from the end of the best epoch: 18.\n",
      "25/25 [==============================] - 0s 3ms/step - loss: 138599.9844 - mean_squared_error: 138599.9844 - val_loss: 72952.9766 - val_mean_squared_error: 72952.9766 - lr: 0.0125\n",
      "Epoch 28: early stopping\n"
     ]
    }
   ],
   "source": [
    "early_stop = EarlyStopping(monitor='val_loss',patience=10,verbose=1,restore_best_weights=True)\n",
    "lr_scheduler =ReduceLROnPlateau(monitor='val_loss',patience=3,verbose=1,factor=0.5,min_lr=1e-5)\n",
    "model_history = fnn_model.fit(X_train,y_train,validation_split = 0.10,epochs=400,batch_size=64,callbacks=[early_stop,lr_scheduler])"
   ]
  },
  {
   "cell_type": "code",
   "execution_count": 61,
   "id": "a569f426",
   "metadata": {},
   "outputs": [],
   "source": [
    "model_output_dict = model_history.history"
   ]
  },
  {
   "cell_type": "code",
   "execution_count": 62,
   "id": "ad5b5366",
   "metadata": {},
   "outputs": [
    {
     "data": {
      "text/plain": [
       "dict_keys(['loss', 'mean_squared_error', 'val_loss', 'val_mean_squared_error', 'lr'])"
      ]
     },
     "execution_count": 62,
     "metadata": {},
     "output_type": "execute_result"
    }
   ],
   "source": [
    "model_output_dict.keys()"
   ]
  },
  {
   "cell_type": "code",
   "execution_count": 63,
   "id": "1c2bd63f",
   "metadata": {},
   "outputs": [],
   "source": [
    "train_loss = model_output_dict[\"loss\"]\n",
    "train_mse = model_output_dict['mean_squared_error']\n",
    "val_loss = model_output_dict['val_loss']\n",
    "val_mse = model_output_dict['val_mean_squared_error']\n",
    "lr = model_output_dict['lr']"
   ]
  },
  {
   "cell_type": "code",
   "execution_count": 64,
   "id": "7757c970",
   "metadata": {},
   "outputs": [],
   "source": [
    "no_of_epochs = range(len(train_loss))"
   ]
  },
  {
   "cell_type": "code",
   "execution_count": 65,
   "id": "55da5547",
   "metadata": {},
   "outputs": [
    {
     "data": {
      "image/png": "[encoded data removed]",
      "text/plain": [
       "<Figure size 432x288 with 1 Axes>"
      ]
     },
     "metadata": {
      "needs_background": "light"
     },
     "output_type": "display_data"
    }
   ],
   "source": [
    "plt.plot(no_of_epochs, train_loss)\n",
    "plt.plot(no_of_epochs, val_loss)\n",
    "\n",
    "plt.legend(['loss', 'val_loss'], loc='upper right')\n",
    "plt.title('Train Loss vs Val Loss')\n",
    "plt.show()"
   ]
  },
  {
   "cell_type": "code",
   "execution_count": 66,
   "id": "7026825e",
   "metadata": {},
   "outputs": [
    {
     "data": {
      "image/png": "[encoded data removed]",
      "text/plain": [
       "<Figure size 432x288 with 1 Axes>"
      ]
     },
     "metadata": {
      "needs_background": "light"
     },
     "output_type": "display_data"
    }
   ],
   "source": [
    "plt.plot(no_of_epochs, train_mse)\n",
    "plt.plot(no_of_epochs, val_mse)\n",
    "\n",
    "plt.legend(['train_mse', 'val_mse'], loc='upper right')\n",
    "plt.title('Train MSE vs Val MSE')\n",
    "plt.show()"
   ]
  },
  {
   "cell_type": "code",
   "execution_count": 67,
   "id": "c89d7ace",
   "metadata": {},
   "outputs": [
    {
     "data": {
      "image/png": "[encoded data removed]",
      "text/plain": [
       "<Figure size 432x288 with 1 Axes>"
      ]
     },
     "metadata": {
      "needs_background": "light"
     },
     "output_type": "display_data"
    }
   ],
   "source": [
    "plt.plot(no_of_epochs, lr)\n",
    "plt.show()"
   ]
  },
  {
   "cell_type": "code",
   "execution_count": 68,
   "id": "7cad94d6",
   "metadata": {},
   "outputs": [
    {
     "name": "stdout",
     "output_type": "stream",
     "text": [
      "14/14 [==============================] - 0s 1ms/step\n",
      "Mean Squared Error: 148839.97730898386\n",
      "Root Mean Squared Error: 385.797845132634\n",
      "Mean Absolute Error: 263.27130811934677\n"
     ]
    }
   ],
   "source": [
    "from sklearn.metrics import mean_squared_error, mean_absolute_error\n",
    "preds=fnn_model.predict(X_test)\n",
    "mse=mean_squared_error(y_test,preds)\n",
    "rmse=np.sqrt(mse)\n",
    "mae=mean_absolute_error(y_test,preds)\n",
    "print('Mean Squared Error:', mse)\n",
    "print('Root Mean Squared Error:', rmse)\n",
    "print('Mean Absolute Error:', mae)"
   ]
  }
 ],
 "metadata": {
  "kernelspec": {
   "display_name": "Python 3 (ipykernel)",
   "language": "python",
   "name": "python3"
  },
  "language_info": {
   "codemirror_mode": {
    "name": "ipython",
    "version": 3
   },
   "file_extension": ".py",
   "mimetype": "text/x-python",
   "name": "python",
   "nbconvert_exporter": "python",
   "pygments_lexer": "ipython3",
   "version": "3.9.12"
  }
 },
 "nbformat": 4,
 "nbformat_minor": 5
}
